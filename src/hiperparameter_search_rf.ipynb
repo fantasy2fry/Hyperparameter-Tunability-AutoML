{
 "cells": [
  {
   "cell_type": "markdown",
   "id": "20721d0e-28e2-4416-8b6f-ddbabd83dc48",
   "metadata": {},
   "source": [
    "## Imports"
   ]
  },
  {
   "cell_type": "code",
   "execution_count": 4,
   "id": "7fb202c3-e457-4106-9c1a-1603fd5dd0b9",
   "metadata": {},
   "outputs": [],
   "source": [
    "seed = 17\n",
    "import pandas as pd\n",
    "import numpy as np\n",
    "import matplotlib.pyplot as plt\n",
    "from sklearn.ensemble import RandomForestClassifier\n",
    "from sklearn.model_selection import RandomizedSearchCV, cross_val_score\n",
    "from sklearn.pipeline import Pipeline\n",
    "from sklearn.preprocessing import MinMaxScaler\n",
    "from scipy import stats\n",
    "from skopt import BayesSearchCV\n",
    "from skopt.space import Real, Categorical, Integer\n",
    "import seaborn as sns\n",
    "import pickle"
   ]
  },
  {
   "cell_type": "markdown",
   "id": "51c60bed-44a8-476a-87a8-c8e1e62aa5a8",
   "metadata": {},
   "source": [
    "# Main Random Forest"
   ]
  },
  {
   "cell_type": "markdown",
   "id": "92a9f948-a31a-4b0b-b79d-0e078cdee789",
   "metadata": {},
   "source": [
    "## Load Data"
   ]
  },
  {
   "cell_type": "code",
   "execution_count": 2,
   "id": "66dcacb7-15da-4a59-a04b-baf366003fa1",
   "metadata": {},
   "outputs": [],
   "source": [
    "# LOAD DATA\n",
    "# Lists of observations and targets\n",
    "Xs = []\n",
    "ys = []\n",
    "\n",
    "Xs.append(pd.read_csv(\"../data/credit_X.csv\"))\n",
    "Xs.append(pd.read_csv(\"../data/raisin_X.csv\"))\n",
    "Xs.append(pd.read_csv(\"../data/alzheimer_X.csv\"))\n",
    "Xs.append(pd.read_csv(\"../data/salary_X.csv\"))\n",
    "\n",
    "ys.append(pd.read_csv(\"../data/credit_y.csv\").iloc[:, 0])\n",
    "ys.append(pd.read_csv(\"../data/raisin_y.csv\").iloc[:, 0])\n",
    "ys.append(pd.read_csv(\"../data/alzheimer_y.csv\").iloc[:, 0])\n",
    "ys.append(pd.read_csv(\"../data/salary_y.csv\").iloc[:, 0])"
   ]
  },
  {
   "cell_type": "markdown",
   "id": "b4791e30-3abc-435e-8bdc-1c1ea5861ce2",
   "metadata": {},
   "source": [
    "## Functions"
   ]
  },
  {
   "cell_type": "code",
   "execution_count": 3,
   "id": "c23d9411-b7e6-408c-a91d-de228f017531",
   "metadata": {},
   "outputs": [],
   "source": [
    "def tune_with_random_search(model, search_grid, n_iter, scoring):\n",
    "    opt_results = []\n",
    "    for i in range(4):\n",
    "        # in my case works faster with n_jobs=-1\n",
    "        opt = RandomizedSearchCV(model, search_grid, n_iter=n_iter, cv=5, scoring=scoring, random_state=seed, n_jobs=-1)\n",
    "        opt_results.append(opt.fit(Xs[i], ys[i]))\n",
    "    return opt_results\n",
    "    \n",
    "def tune_with_bayes_search(model, search_grid, n_iter, scoring):\n",
    "    opt_results = []\n",
    "    for i in range(4):\n",
    "        opt = BayesSearchCV(model, search_grid, n_iter=n_iter, cv=5, scoring=scoring, random_state=seed)\n",
    "        opt_results.append(opt.fit(Xs[i], ys[i]))\n",
    "    return opt_results\n",
    "\n",
    "def get_tunability(model_class, default_grid, tuned_grids, scoring):\n",
    "    tunabilities = []\n",
    "    for i in range(4):\n",
    "        default_score = cross_val_score(model_class(**default_grid), Xs[i], ys[i], cv=5, scoring=scoring, n_jobs=-1).mean()\n",
    "        tuned_score = cross_val_score(model_class(**tuned_grids[i].best_params_), Xs[i], ys[i], cv=5, scoring=scoring, n_jobs=-1).mean()\n",
    "        tunabilities.append(tuned_score - default_score)\n",
    "    return tunabilities\n",
    "\n",
    "def save_result(result, path_to_save):\n",
    "    with open(path_to_save, 'wb') as file:\n",
    "        pickle.dump(result, file)\n",
    "\n",
    "def load_result(path):\n",
    "    with open(path, 'rb') as file:\n",
    "        return pickle.load(file)"
   ]
  },
  {
   "cell_type": "markdown",
   "id": "6cb57b44-3bf5-4276-b679-d4567708b921",
   "metadata": {},
   "source": [
    "## Algorithm tunability"
   ]
  },
  {
   "cell_type": "markdown",
   "id": "0f6fa92b-2a0f-439a-ab48-5f0424c44b4f",
   "metadata": {},
   "source": [
    "### RandomSearch"
   ]
  },
  {
   "cell_type": "code",
   "execution_count": null,
   "id": "541245f8-e582-4408-938c-f6bdee451528",
   "metadata": {},
   "outputs": [],
   "source": [
    "search_grid = {\n",
    "    'C': stats.loguniform(1e-4, 1e4),\n",
    "    'penalty': ['l1', 'l2'],            \n",
    "    'solver': ['liblinear', 'saga'],\n",
    "    \"class_weight\": [None, \"balanced\"],\n",
    "    \"max_iter\": [10000],\n",
    "    \"random_state\": [seed]\n",
    "}"
   ]
  }
 ],
 "metadata": {
  "kernelspec": {
   "display_name": "Python 3 (ipykernel)",
   "language": "python",
   "name": "python3"
  },
  "language_info": {
   "codemirror_mode": {
    "name": "ipython",
    "version": 3
   },
   "file_extension": ".py",
   "mimetype": "text/x-python",
   "name": "python",
   "nbconvert_exporter": "python",
   "pygments_lexer": "ipython3",
   "version": "3.12.3"
  }
 },
 "nbformat": 4,
 "nbformat_minor": 5
}
