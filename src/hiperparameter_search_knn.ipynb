{
 "cells": [
  {
   "cell_type": "markdown",
   "source": [
    "### Import"
   ],
   "metadata": {
    "collapsed": false
   },
   "id": "6744c7af6505bb4a"
  },
  {
   "cell_type": "code",
   "execution_count": 41,
   "id": "initial_id",
   "metadata": {
    "collapsed": true,
    "ExecuteTime": {
     "end_time": "2024-11-04T09:33:36.434422Z",
     "start_time": "2024-11-04T09:33:36.427348Z"
    }
   },
   "outputs": [],
   "source": [
    "seed = 17\n",
    "import pandas as pd\n",
    "import numpy as np\n",
    "import matplotlib.pyplot as plt\n",
    "from sklearn.linear_model import LogisticRegression\n",
    "from sklearn.model_selection import RandomizedSearchCV, cross_val_score\n",
    "from scipy import stats\n",
    "from skopt import BayesSearchCV\n",
    "from skopt.space import Real, Categorical, Integer\n",
    "import seaborn as sns\n",
    "from sklearn.pipeline import Pipeline\n",
    "from sklearn.preprocessing import MinMaxScaler\n",
    "from sklearn.svm import SVC\n",
    "from sklearn.neighbors import KNeighborsClassifier\n",
    "import pickle"
   ]
  },
  {
   "cell_type": "markdown",
   "source": [
    "### Load Data"
   ],
   "metadata": {
    "collapsed": false
   },
   "id": "f347ee7d7c413ed3"
  },
  {
   "cell_type": "code",
   "execution_count": 42,
   "outputs": [],
   "source": [
    "# LOAD DATA\n",
    "# Lists of observations and targets\n",
    "Xs = []\n",
    "ys = []\n",
    "\n",
    "Xs.append(pd.read_csv(\"../data/credit_X.csv\"))\n",
    "Xs.append(pd.read_csv(\"../data/raisin_X.csv\"))\n",
    "Xs.append(pd.read_csv(\"../data/alzheimer_X.csv\"))\n",
    "Xs.append(pd.read_csv(\"../data/salary_X.csv\"))\n",
    "\n",
    "ys.append(pd.read_csv(\"../data/credit_y.csv\").iloc[:, 0])\n",
    "ys.append(pd.read_csv(\"../data/raisin_y.csv\").iloc[:, 0])\n",
    "ys.append(pd.read_csv(\"../data/alzheimer_y.csv\").iloc[:, 0])\n",
    "ys.append(pd.read_csv(\"../data/salary_y.csv\").iloc[:, 0])"
   ],
   "metadata": {
    "collapsed": false,
    "ExecuteTime": {
     "end_time": "2024-11-04T09:33:36.761395Z",
     "start_time": "2024-11-04T09:33:36.707761Z"
    }
   },
   "id": "b85e09a13a9c6974"
  },
  {
   "cell_type": "markdown",
   "source": [
    "### Functions"
   ],
   "metadata": {
    "collapsed": false
   },
   "id": "ea6d6b75c76574d"
  },
  {
   "cell_type": "code",
   "execution_count": 43,
   "outputs": [],
   "source": [
    "def tune_with_random_search(model, search_grid, n_iter, scoring):\n",
    "    opt_results = []\n",
    "    for i in range(4):\n",
    "        # in my case works faster with n_jobs=-1\n",
    "        opt = RandomizedSearchCV(model, search_grid, n_iter=n_iter, cv=5, scoring=scoring, random_state=seed, n_jobs=-1)\n",
    "        opt_results.append(opt.fit(Xs[i], ys[i]))\n",
    "    return opt_results\n",
    "\n",
    "def tune_with_bayes_search(model, search_grid, n_iter, scoring):\n",
    "    opt_results = []\n",
    "    for i in range(4):\n",
    "        opt = BayesSearchCV(model, search_grid, n_iter=n_iter, cv=5, scoring=scoring, random_state=seed)\n",
    "        opt_results.append(opt.fit(Xs[i], ys[i]))\n",
    "    return opt_results\n",
    "\n",
    "def get_tunability(model_class, default_grid, tuned_grids, scoring):\n",
    "    tunabilities = []\n",
    "    for i in range(4):\n",
    "        default_score = cross_val_score(model_class(**default_grid), Xs[i], ys[i], cv=5, scoring=scoring, n_jobs=-1).mean()\n",
    "        tuned_score = cross_val_score(model_class(**tuned_grids[i].best_params_), Xs[i], ys[i], cv=5, scoring=scoring, n_jobs=-1).mean()\n",
    "        tunabilities.append(tuned_score - default_score)\n",
    "    return tunabilities\n",
    "\n",
    "def save_result(result, path_to_save):\n",
    "    with open(path_to_save, 'wb') as file:\n",
    "        pickle.dump(result, file)\n",
    "\n",
    "def load_result(path):\n",
    "    with open(path, 'rb') as file:\n",
    "        return pickle.load(file)"
   ],
   "metadata": {
    "collapsed": false,
    "ExecuteTime": {
     "end_time": "2024-11-04T09:33:37.032937Z",
     "start_time": "2024-11-04T09:33:37.026748Z"
    }
   },
   "id": "69ef20c3f67ac30a"
  },
  {
   "cell_type": "markdown",
   "source": [
    "### KNN with MinMaxScaler"
   ],
   "metadata": {
    "collapsed": false
   },
   "id": "8efc45d6d4399f25"
  },
  {
   "cell_type": "code",
   "execution_count": 57,
   "outputs": [],
   "source": [
    "random_seed = 17\n",
    "pipe_knn = Pipeline(\n",
    "    [\n",
    "        ('scaler', MinMaxScaler()),\n",
    "        ('knn', KNeighborsClassifier())\n",
    "    ]\n",
    "\n",
    ")\n",
    "\n",
    "search_grid = {\n",
    "    'knn__n_neighbors': [i for i in range(1, 100)],\n",
    "    'knn__weights': ['uniform', 'distance'],\n",
    "    'knn__p': [i for i in range(1,4)], \n",
    "    'knn__leaf_size': [i for i in range(10, 51, 2)], \n",
    "    'knn__n_jobs': [-1],\n",
    "    'knn__algorithm': ['auto', 'ball_tree', 'kd_tree', 'brute']\n",
    "}"
   ],
   "metadata": {
    "collapsed": false,
    "ExecuteTime": {
     "end_time": "2024-11-04T09:43:34.217270Z",
     "start_time": "2024-11-04T09:43:34.215717Z"
    }
   },
   "id": "92c4f197e42a2924"
  },
  {
   "cell_type": "code",
   "execution_count": 58,
   "outputs": [
    {
     "name": "stdout",
     "output_type": "stream",
     "text": [
      "CPU times: user 731 ms, sys: 356 ms, total: 1.09 s\n",
      "Wall time: 16.2 s\n"
     ]
    }
   ],
   "source": [
    "%%time\n",
    "\n",
    "knn_opt_results_rs = tune_with_random_search(pipe_knn, search_grid,100, 'roc_auc')"
   ],
   "metadata": {
    "collapsed": false,
    "ExecuteTime": {
     "end_time": "2024-11-04T09:43:50.874671Z",
     "start_time": "2024-11-04T09:43:34.634232Z"
    }
   },
   "id": "661a489b45115035"
  },
  {
   "cell_type": "code",
   "execution_count": null,
   "outputs": [],
   "source": [
    "#save_result(knn_opt_results_rs,'./saved_results/knn_opt_results_rs.pkl')"
   ],
   "metadata": {
    "collapsed": false
   },
   "id": "248aaad87cdbbe56"
  },
  {
   "cell_type": "code",
   "execution_count": 59,
   "outputs": [
    {
     "name": "stdout",
     "output_type": "stream",
     "text": [
      "{'knn__weights': 'uniform', 'knn__p': 1, 'knn__n_neighbors': 97, 'knn__n_jobs': -1, 'knn__leaf_size': 24, 'knn__algorithm': 'kd_tree'}\n",
      "{'knn__weights': 'uniform', 'knn__p': 1, 'knn__n_neighbors': 27, 'knn__n_jobs': -1, 'knn__leaf_size': 30, 'knn__algorithm': 'kd_tree'}\n",
      "{'knn__weights': 'distance', 'knn__p': 1, 'knn__n_neighbors': 94, 'knn__n_jobs': -1, 'knn__leaf_size': 18, 'knn__algorithm': 'ball_tree'}\n",
      "{'knn__weights': 'distance', 'knn__p': 1, 'knn__n_neighbors': 66, 'knn__n_jobs': -1, 'knn__leaf_size': 32, 'knn__algorithm': 'kd_tree'}\n"
     ]
    }
   ],
   "source": [
    "for i in range(4):\n",
    "    print(knn_opt_results_rs[i].best_params_)"
   ],
   "metadata": {
    "collapsed": false,
    "ExecuteTime": {
     "end_time": "2024-11-04T09:43:50.876486Z",
     "start_time": "2024-11-04T09:43:50.868784Z"
    }
   },
   "id": "47a6c0702bd9b54f"
  },
  {
   "cell_type": "code",
   "execution_count": 60,
   "outputs": [
    {
     "ename": "TypeError",
     "evalue": "'Pipeline' object is not callable",
     "output_type": "error",
     "traceback": [
      "\u001B[0;31m---------------------------------------------------------------------------\u001B[0m",
      "\u001B[0;31mTypeError\u001B[0m                                 Traceback (most recent call last)",
      "Cell \u001B[0;32mIn[60], line 1\u001B[0m\n\u001B[0;32m----> 1\u001B[0m knn_tunabilities_rs \u001B[38;5;241m=\u001B[39m \u001B[43mget_tunability\u001B[49m\u001B[43m(\u001B[49m\u001B[43mpipe_knn\u001B[49m\u001B[43m,\u001B[49m\u001B[43m \u001B[49m\u001B[43m{\u001B[49m\u001B[38;5;124;43m'\u001B[39;49m\u001B[38;5;124;43mknn__n_jobs\u001B[39;49m\u001B[38;5;124;43m'\u001B[39;49m\u001B[43m:\u001B[49m\u001B[43m \u001B[49m\u001B[38;5;241;43m-\u001B[39;49m\u001B[38;5;241;43m1\u001B[39;49m\u001B[43m}\u001B[49m\u001B[43m,\u001B[49m\u001B[43m \u001B[49m\u001B[43mknn_opt_results_rs\u001B[49m\u001B[43m,\u001B[49m\u001B[43m \u001B[49m\u001B[38;5;124;43m'\u001B[39;49m\u001B[38;5;124;43mroc_auc\u001B[39;49m\u001B[38;5;124;43m'\u001B[39;49m\u001B[43m)\u001B[49m\n\u001B[1;32m      2\u001B[0m knn_tunabilities_rs\n",
      "Cell \u001B[0;32mIn[43], line 19\u001B[0m, in \u001B[0;36mget_tunability\u001B[0;34m(model_class, default_grid, tuned_grids, scoring)\u001B[0m\n\u001B[1;32m     17\u001B[0m tunabilities \u001B[38;5;241m=\u001B[39m []\n\u001B[1;32m     18\u001B[0m \u001B[38;5;28;01mfor\u001B[39;00m i \u001B[38;5;129;01min\u001B[39;00m \u001B[38;5;28mrange\u001B[39m(\u001B[38;5;241m4\u001B[39m):\n\u001B[0;32m---> 19\u001B[0m     default_score \u001B[38;5;241m=\u001B[39m cross_val_score(\u001B[43mmodel_class\u001B[49m\u001B[43m(\u001B[49m\u001B[38;5;241;43m*\u001B[39;49m\u001B[38;5;241;43m*\u001B[39;49m\u001B[43mdefault_grid\u001B[49m\u001B[43m)\u001B[49m, Xs[i], ys[i], cv\u001B[38;5;241m=\u001B[39m\u001B[38;5;241m5\u001B[39m, scoring\u001B[38;5;241m=\u001B[39mscoring, n_jobs\u001B[38;5;241m=\u001B[39m\u001B[38;5;241m-\u001B[39m\u001B[38;5;241m1\u001B[39m)\u001B[38;5;241m.\u001B[39mmean()\n\u001B[1;32m     20\u001B[0m     tuned_score \u001B[38;5;241m=\u001B[39m cross_val_score(model_class(\u001B[38;5;241m*\u001B[39m\u001B[38;5;241m*\u001B[39mtuned_grids[i]\u001B[38;5;241m.\u001B[39mbest_params_), Xs[i], ys[i], cv\u001B[38;5;241m=\u001B[39m\u001B[38;5;241m5\u001B[39m, scoring\u001B[38;5;241m=\u001B[39mscoring, n_jobs\u001B[38;5;241m=\u001B[39m\u001B[38;5;241m-\u001B[39m\u001B[38;5;241m1\u001B[39m)\u001B[38;5;241m.\u001B[39mmean()\n\u001B[1;32m     21\u001B[0m     tunabilities\u001B[38;5;241m.\u001B[39mappend(tuned_score \u001B[38;5;241m-\u001B[39m default_score)\n",
      "\u001B[0;31mTypeError\u001B[0m: 'Pipeline' object is not callable"
     ]
    }
   ],
   "source": [
    "knn_tunabilities_rs = get_tunability(pipe_knn, {'knn__n_jobs': -1}, knn_opt_results_rs, 'roc_auc')\n",
    "knn_tunabilities_rs"
   ],
   "metadata": {
    "collapsed": false,
    "ExecuteTime": {
     "end_time": "2024-11-04T09:49:31.178718Z",
     "start_time": "2024-11-04T09:49:31.151237Z"
    }
   },
   "id": "11dfe286631f701"
  },
  {
   "cell_type": "code",
   "execution_count": null,
   "outputs": [],
   "source": [],
   "metadata": {
    "collapsed": false
   },
   "id": "a0dfef24b8c8dd70"
  }
 ],
 "metadata": {
  "kernelspec": {
   "display_name": "Python 3",
   "language": "python",
   "name": "python3"
  },
  "language_info": {
   "codemirror_mode": {
    "name": "ipython",
    "version": 2
   },
   "file_extension": ".py",
   "mimetype": "text/x-python",
   "name": "python",
   "nbconvert_exporter": "python",
   "pygments_lexer": "ipython2",
   "version": "2.7.6"
  }
 },
 "nbformat": 4,
 "nbformat_minor": 5
}
